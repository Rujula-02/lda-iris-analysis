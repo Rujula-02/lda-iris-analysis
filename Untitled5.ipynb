{
  "nbformat": 4,
  "nbformat_minor": 0,
  "metadata": {
    "colab": {
      "provenance": []
    },
    "kernelspec": {
      "name": "python3",
      "display_name": "Python 3"
    },
    "language_info": {
      "name": "python"
    }
  },
  "cells": [
    {
      "cell_type": "code",
      "execution_count": 1,
      "metadata": {
        "colab": {
          "base_uri": "https://localhost:8080/"
        },
        "id": "9KeXbxOS2c1B",
        "outputId": "08ae794b-9ada-4a46-e730-69fd4c540f93"
      },
      "outputs": [
        {
          "output_type": "stream",
          "name": "stdout",
          "text": [
            "   sepal length (cm)  sepal width (cm)  petal length (cm)  petal width (cm)  \\\n",
            "0                5.1               3.5                1.4               0.2   \n",
            "1                4.9               3.0                1.4               0.2   \n",
            "2                4.7               3.2                1.3               0.2   \n",
            "3                4.6               3.1                1.5               0.2   \n",
            "4                5.0               3.6                1.4               0.2   \n",
            "\n",
            "   target  \n",
            "0       0  \n",
            "1       0  \n",
            "2       0  \n",
            "3       0  \n",
            "4       0  \n"
          ]
        }
      ],
      "source": [
        "import pandas as pd\n",
        "from sklearn.datasets import load_iris\n",
        "\n",
        "# Load Iris dataset\n",
        "iris = load_iris()\n",
        "\n",
        "# Convert to pandas DataFrame\n",
        "data = pd.DataFrame(iris.data, columns=iris.feature_names)\n",
        "\n",
        "# Add target column (the flower types)\n",
        "data['target'] = iris.target\n",
        "\n",
        "# Print first 5 rows\n",
        "print(data.head())\n"
      ]
    },
    {
      "cell_type": "code",
      "source": [
        "print(data.describe())\n"
      ],
      "metadata": {
        "colab": {
          "base_uri": "https://localhost:8080/"
        },
        "id": "97Mk2pES3LRH",
        "outputId": "a045e74c-21d7-4a0c-ae82-51cac4724ad6"
      },
      "execution_count": 2,
      "outputs": [
        {
          "output_type": "stream",
          "name": "stdout",
          "text": [
            "       sepal length (cm)  sepal width (cm)  petal length (cm)  \\\n",
            "count         150.000000        150.000000         150.000000   \n",
            "mean            5.843333          3.057333           3.758000   \n",
            "std             0.828066          0.435866           1.765298   \n",
            "min             4.300000          2.000000           1.000000   \n",
            "25%             5.100000          2.800000           1.600000   \n",
            "50%             5.800000          3.000000           4.350000   \n",
            "75%             6.400000          3.300000           5.100000   \n",
            "max             7.900000          4.400000           6.900000   \n",
            "\n",
            "       petal width (cm)      target  \n",
            "count        150.000000  150.000000  \n",
            "mean           1.199333    1.000000  \n",
            "std            0.762238    0.819232  \n",
            "min            0.100000    0.000000  \n",
            "25%            0.300000    0.000000  \n",
            "50%            1.300000    1.000000  \n",
            "75%            1.800000    2.000000  \n",
            "max            2.500000    2.000000  \n"
          ]
        }
      ]
    },
    {
      "cell_type": "code",
      "source": [
        "# Add a column with label names for easier reading\n",
        "data['species'] = data['target'].map({i: name for i, name in enumerate(iris.target_names)})\n",
        "\n",
        "# Count by species\n",
        "species_counts = data['species'].value_counts()\n",
        "print(\"Number of samples per Iris species:\")\n",
        "print(species_counts)\n"
      ],
      "metadata": {
        "colab": {
          "base_uri": "https://localhost:8080/"
        },
        "id": "bkkaNRTU3M0E",
        "outputId": "90cd0fdb-b0fb-49ae-a8b5-3d7a3d5dd464"
      },
      "execution_count": 3,
      "outputs": [
        {
          "output_type": "stream",
          "name": "stdout",
          "text": [
            "Number of samples per Iris species:\n",
            "species\n",
            "setosa        50\n",
            "versicolor    50\n",
            "virginica     50\n",
            "Name: count, dtype: int64\n"
          ]
        }
      ]
    },
    {
      "cell_type": "code",
      "source": [
        "# Add species names for clarity (if not already added)\n",
        "data['species'] = data['target'].map({i: name for i, name in enumerate(iris.target_names)})\n",
        "\n",
        "# Count how many samples per class\n",
        "class_counts = data['species'].value_counts()\n",
        "min_count = class_counts.min()\n",
        "\n",
        "# Downsample all classes to the smallest count (which is 50 for Iris anyway)\n",
        "balanced_data = pd.concat([\n",
        "    data[data['species'] == 'setosa'].sample(n=min_count, random_state=42),\n",
        "    data[data['species'] == 'versicolor'].sample(n=min_count, random_state=42),\n",
        "    data[data['species'] == 'virginica'].sample(n=min_count, random_state=42)\n",
        "])\n",
        "\n",
        "# Shuffle the balanced dataset\n",
        "balanced_data = balanced_data.sample(frac=1, random_state=42).reset_index(drop=True)\n",
        "\n",
        "# Check final class distribution\n",
        "print(\"Number of samples per class in the balanced dataset:\")\n",
        "print(balanced_data['species'].value_counts())\n"
      ],
      "metadata": {
        "colab": {
          "base_uri": "https://localhost:8080/"
        },
        "id": "aj8nMsEZ3pcE",
        "outputId": "fd7cab1e-bb46-4565-f48e-8d33171d97f6"
      },
      "execution_count": 4,
      "outputs": [
        {
          "output_type": "stream",
          "name": "stdout",
          "text": [
            "Number of samples per class in the balanced dataset:\n",
            "species\n",
            "versicolor    50\n",
            "setosa        50\n",
            "virginica     50\n",
            "Name: count, dtype: int64\n"
          ]
        }
      ]
    },
    {
      "cell_type": "code",
      "source": [
        "from sklearn.preprocessing import StandardScaler\n",
        "from sklearn.model_selection import train_test_split\n",
        "\n",
        "# Features and labels\n",
        "X = balanced_data.drop(columns=['species', 'target'])  # drop both label columns\n",
        "y = balanced_data['species']  # this is your class label: setosa, versicolor, virginica\n",
        "\n",
        "# Normalize features\n",
        "scaler = StandardScaler()\n",
        "X_scaled = scaler.fit_transform(X)\n",
        "\n",
        "# Train-test split (80/20)\n",
        "X_train, X_test, y_train, y_test = train_test_split(\n",
        "    X_scaled, y, test_size=0.2, random_state=42, stratify=y\n",
        ")\n"
      ],
      "metadata": {
        "id": "LBlanB073rPc"
      },
      "execution_count": 6,
      "outputs": []
    },
    {
      "cell_type": "code",
      "source": [
        "from sklearn.discriminant_analysis import LinearDiscriminantAnalysis as LDA\n",
        "\n",
        "# Initialize and fit sklearn's LDA (1 component)\n",
        "lda = LDA(n_components=1)\n",
        "X_train_lda = lda.fit_transform(X_train, y_train)\n",
        "X_test_lda = lda.transform(X_test)  # Only transform, not fit again\n"
      ],
      "metadata": {
        "id": "H-evZ-Fg4agS"
      },
      "execution_count": 7,
      "outputs": []
    },
    {
      "cell_type": "code",
      "source": [
        "import matplotlib.pyplot as plt\n",
        "from sklearn.datasets import load_iris\n",
        "import numpy as np\n",
        "\n",
        "# Load Iris target names\n",
        "iris = load_iris()\n",
        "target_names = iris.target_names\n",
        "\n",
        "# Make sure X_train_lda is 1D for histogram\n",
        "X_train_lda_1d = X_train_lda.ravel() if X_train_lda.shape[1] == 1 else X_train_lda[:, 0]\n",
        "\n",
        "# Plot\n",
        "plt.figure(figsize=(10, 6))\n",
        "for class_idx, class_name, color in zip(np.unique(y_train), target_names, ['green', 'red', 'blue']):\n",
        "    plt.hist(X_train_lda_1d[y_train == class_idx], bins=20, alpha=0.7, label=class_name, color=color)\n",
        "\n",
        "plt.title(\"LDA Projection (Training Data)\")\n",
        "plt.xlabel(\"LDA Component\")\n",
        "plt.ylabel(\"Frequency\")\n",
        "plt.legend()\n",
        "plt.grid(True)\n",
        "plt.tight_layout()\n",
        "plt.show()\n"
      ],
      "metadata": {
        "colab": {
          "base_uri": "https://localhost:8080/",
          "height": 607
        },
        "id": "Y7C1uSe146zf",
        "outputId": "6777126e-c8bf-43ef-98cc-14574351cd86"
      },
      "execution_count": 10,
      "outputs": [
        {
          "output_type": "display_data",
          "data": {
            "text/plain": [
              "<Figure size 1000x600 with 1 Axes>"
            ],
            "image/png": "[encoded data removed]"
          },
          "metadata": {}
        }
      ]
    },
    {
      "cell_type": "code",
      "source": [
        "from sklearn.linear_model import LogisticRegression\n",
        "from sklearn.metrics import classification_report, confusion_matrix\n",
        "from sklearn.datasets import load_iris\n",
        "\n",
        "# Load target names for better readability (optional)\n",
        "iris = load_iris()\n",
        "target_names = iris.target_names\n",
        "\n",
        "# Train classifier on LDA-reduced training data\n",
        "clf = LogisticRegression()\n",
        "clf.fit(X_train_lda, y_train)\n",
        "\n",
        "# Predict on LDA-reduced test data\n",
        "y_pred = clf.predict(X_test_lda)\n",
        "\n",
        "# Evaluation metrics\n",
        "print(\"Classification Report:\")\n",
        "print(classification_report(y_test, y_pred, target_names=target_names))\n",
        "\n",
        "print(\"Confusion Matrix:\")\n",
        "print(confusion_matrix(y_test, y_pred))\n"
      ],
      "metadata": {
        "colab": {
          "base_uri": "https://localhost:8080/"
        },
        "id": "YFfEmdor5Jdj",
        "outputId": "530c613d-be05-4c16-9c56-f21865ac885e"
      },
      "execution_count": 11,
      "outputs": [
        {
          "output_type": "stream",
          "name": "stdout",
          "text": [
            "Classification Report:\n",
            "              precision    recall  f1-score   support\n",
            "\n",
            "      setosa       1.00      1.00      1.00        10\n",
            "  versicolor       1.00      0.80      0.89        10\n",
            "   virginica       0.83      1.00      0.91        10\n",
            "\n",
            "    accuracy                           0.93        30\n",
            "   macro avg       0.94      0.93      0.93        30\n",
            "weighted avg       0.94      0.93      0.93        30\n",
            "\n",
            "Confusion Matrix:\n",
            "[[10  0  0]\n",
            " [ 0  8  2]\n",
            " [ 0  0 10]]\n"
          ]
        }
      ]
    },
    {
      "cell_type": "code",
      "source": [
        "import pandas as pd\n",
        "from sklearn.datasets import load_iris\n",
        "\n",
        "# Load feature names\n",
        "iris = load_iris()\n",
        "feature_names = iris.feature_names\n",
        "\n",
        "# Create a DataFrame of LDA coefficients\n",
        "feature_importance = pd.DataFrame({\n",
        "    'Feature': feature_names,\n",
        "    'LDA Coefficient': lda.coef_[0]\n",
        "}).sort_values(by='LDA Coefficient', key=lambda col: abs(col), ascending=False)\n",
        "\n",
        "print(\"Feature Contributions to LDA Component:\")\n",
        "print(feature_importance)\n"
      ],
      "metadata": {
        "colab": {
          "base_uri": "https://localhost:8080/"
        },
        "id": "DMHSuBgp5UN3",
        "outputId": "7c6795d2-305e-4c7d-f257-df9a341ec5ba"
      },
      "execution_count": 12,
      "outputs": [
        {
          "output_type": "stream",
          "name": "stdout",
          "text": [
            "Feature Contributions to LDA Component:\n",
            "             Feature  LDA Coefficient\n",
            "2  petal length (cm)       -33.792667\n",
            "3   petal width (cm)       -15.725788\n",
            "0  sepal length (cm)         6.343075\n",
            "1   sepal width (cm)         4.967879\n"
          ]
        }
      ]
    }
  ]
}